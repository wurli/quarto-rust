{
  "cells": [
    {
      "cell_type": "raw",
      "metadata": {},
      "source": [
        "---\n",
        "title: \"Testing\"\n",
        "format: html\n",
        "filters:\n",
        "- webr\n",
        "---"
      ],
      "id": "6b79db7f"
    },
    {
      "cell_type": "markdown",
      "metadata": {},
      "source": [
        "## Heading\n",
        "\n",
        "\n",
        "```{webr}\n",
        "1 + 1 \n",
        "```\n",
        "\n",
        "```{webr}\n",
        "message(\"hello\")\n",
        "```"
      ],
      "id": "32c2a228"
    }
  ],
  "metadata": {
    "kernelspec": {
      "name": "python3",
      "language": "python",
      "display_name": "Python 3 (ipykernel)"
    }
  },
  "nbformat": 4,
  "nbformat_minor": 5
}